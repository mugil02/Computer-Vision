{
  "nbformat": 4,
  "nbformat_minor": 0,
  "metadata": {
    "colab": {
      "provenance": [],
      "gpuType": "V28"
    },
    "kernelspec": {
      "name": "python3",
      "display_name": "Python 3"
    },
    "language_info": {
      "name": "python"
    },
    "accelerator": "TPU"
  },
  "cells": [
    {
      "cell_type": "markdown",
      "source": [
        "#Importing Dataset"
      ],
      "metadata": {
        "id": "BeB10ZMav-SW"
      }
    },
    {
      "cell_type": "code",
      "source": [
        "from google.colab import drive\n",
        "drive.mount('/content/drive')"
      ],
      "metadata": {
        "colab": {
          "base_uri": "https://localhost:8080/"
        },
        "id": "CkSZ9-gPukrQ",
        "outputId": "eca49868-0e0e-463c-9107-928a08116cc3"
      },
      "execution_count": 1,
      "outputs": [
        {
          "output_type": "stream",
          "name": "stdout",
          "text": [
            "Mounted at /content/drive\n"
          ]
        }
      ]
    },
    {
      "cell_type": "markdown",
      "source": [
        "#Importing libraries"
      ],
      "metadata": {
        "id": "5vUbBvinu8zW"
      }
    },
    {
      "cell_type": "code",
      "source": [
        "import tensorflow as tf\n",
        "import matplotlib.pyplot as plt"
      ],
      "metadata": {
        "id": "4JsejDm3uxTS"
      },
      "execution_count": 2,
      "outputs": []
    },
    {
      "cell_type": "markdown",
      "source": [
        "#Data Preprocessing"
      ],
      "metadata": {
        "id": "i2w52yYrvTu9"
      }
    },
    {
      "cell_type": "markdown",
      "source": [
        "##Training Image preprocessing"
      ],
      "metadata": {
        "id": "vU3NlcKCwlIZ"
      }
    },
    {
      "cell_type": "code",
      "source": [
        "training_set = tf.keras.utils.image_dataset_from_directory(\n",
        "    '/content/drive/MyDrive/archive (5)/train',\n",
        "    labels=\"inferred\",\n",
        "    label_mode=\"categorical\",\n",
        "    class_names=None,\n",
        "    color_mode=\"rgb\",\n",
        "    batch_size=32,\n",
        "    image_size=(64, 64),\n",
        "    shuffle=True,\n",
        "    seed=None,\n",
        "    validation_split=None,\n",
        "    subset=None,\n",
        "    interpolation=\"bilinear\",\n",
        "    follow_links=False,\n",
        "    crop_to_aspect_ratio=False\n",
        ")"
      ],
      "metadata": {
        "colab": {
          "base_uri": "https://localhost:8080/"
        },
        "id": "Kjoa0oUHvQAv",
        "outputId": "19666ab4-a394-4ff2-db7c-b977ef80566a"
      },
      "execution_count": 3,
      "outputs": [
        {
          "output_type": "stream",
          "name": "stdout",
          "text": [
            "Found 3115 files belonging to 36 classes.\n"
          ]
        }
      ]
    },
    {
      "cell_type": "markdown",
      "source": [
        "##Validation Image Preprocessing"
      ],
      "metadata": {
        "id": "nK9Ev76o0mdJ"
      }
    },
    {
      "cell_type": "code",
      "source": [
        "validation_set = tf.keras.utils.image_dataset_from_directory(\n",
        "    '/content/drive/MyDrive/archive (5)/validation',\n",
        "    labels=\"inferred\",\n",
        "    label_mode=\"categorical\",\n",
        "    class_names=None,\n",
        "    color_mode=\"rgb\",\n",
        "    batch_size=32,\n",
        "    image_size=(64, 64),\n",
        "    shuffle=True,\n",
        "    seed=None,\n",
        "    validation_split=None,\n",
        "    subset=None,\n",
        "    interpolation=\"bilinear\",\n",
        "    follow_links=False,\n",
        "    crop_to_aspect_ratio=False\n",
        ")"
      ],
      "metadata": {
        "colab": {
          "base_uri": "https://localhost:8080/"
        },
        "id": "Tocls4IowkNB",
        "outputId": "69067ab5-f2ce-4dfd-ece9-76a0ff808efd"
      },
      "execution_count": 4,
      "outputs": [
        {
          "output_type": "stream",
          "name": "stdout",
          "text": [
            "Found 351 files belonging to 36 classes.\n"
          ]
        }
      ]
    },
    {
      "cell_type": "markdown",
      "source": [
        "#Building Model"
      ],
      "metadata": {
        "id": "OQ_TcbD7r2Cw"
      }
    },
    {
      "cell_type": "code",
      "source": [
        "cnn = tf.keras.models.Sequential()"
      ],
      "metadata": {
        "id": "cUMiJrPvsBTU"
      },
      "execution_count": 5,
      "outputs": []
    },
    {
      "cell_type": "markdown",
      "source": [
        "##Building Convolution Layer"
      ],
      "metadata": {
        "id": "mgFWYq7ssLkV"
      }
    },
    {
      "cell_type": "code",
      "source": [
        "cnn.add(tf.keras.layers.Conv2D(filters=32,kernel_size=3,padding='same',activation='relu',input_shape=[64,64,3]))\n",
        "cnn.add(tf.keras.layers.Conv2D(filters=32,kernel_size=3,activation='relu'))\n",
        "cnn.add(tf.keras.layers.MaxPool2D(pool_size=2,strides=2))"
      ],
      "metadata": {
        "id": "LoaODWuZrHFg"
      },
      "execution_count": 6,
      "outputs": []
    },
    {
      "cell_type": "code",
      "source": [
        "cnn.add(tf.keras.layers.Dropout(0.25))"
      ],
      "metadata": {
        "id": "b5-b7yo8mJHq"
      },
      "execution_count": 7,
      "outputs": []
    },
    {
      "cell_type": "code",
      "source": [
        "cnn.add(tf.keras.layers.Conv2D(filters=64,kernel_size=3,padding='same',activation='relu'))\n",
        "cnn.add(tf.keras.layers.Conv2D(filters=64,kernel_size=3,activation='relu'))\n",
        "cnn.add(tf.keras.layers.MaxPool2D(pool_size=2,strides=2))"
      ],
      "metadata": {
        "id": "5-potKmKsOr2"
      },
      "execution_count": 8,
      "outputs": []
    },
    {
      "cell_type": "code",
      "source": [
        "cnn.add(tf.keras.layers.Dropout(0.25))"
      ],
      "metadata": {
        "id": "0B29AmGWmZeV"
      },
      "execution_count": 9,
      "outputs": []
    },
    {
      "cell_type": "code",
      "source": [
        "cnn.add(tf.keras.layers.Flatten())"
      ],
      "metadata": {
        "id": "NPZ2NGthuTv5"
      },
      "execution_count": 10,
      "outputs": []
    },
    {
      "cell_type": "code",
      "source": [
        "cnn.add(tf.keras.layers.Dense(units=512,activation='relu'))"
      ],
      "metadata": {
        "id": "demjWjcWuc3q"
      },
      "execution_count": 11,
      "outputs": []
    },
    {
      "cell_type": "code",
      "source": [
        "cnn.add(tf.keras.layers.Dense(units=256,activation='relu'))"
      ],
      "metadata": {
        "id": "_cD4jLBauZtk"
      },
      "execution_count": 12,
      "outputs": []
    },
    {
      "cell_type": "code",
      "source": [
        "cnn.add(tf.keras.layers.Dropout(0.5)) #To avoid overfitting"
      ],
      "metadata": {
        "id": "2onuZO6YuBF3"
      },
      "execution_count": 13,
      "outputs": []
    },
    {
      "cell_type": "code",
      "source": [
        "#Output Layer\n",
        "cnn.add(tf.keras.layers.Dense(units=36,activation='softmax'))"
      ],
      "metadata": {
        "id": "toAqflkCuwoS"
      },
      "execution_count": 14,
      "outputs": []
    },
    {
      "cell_type": "markdown",
      "source": [
        "#Compiling and Training Phase"
      ],
      "metadata": {
        "id": "sYYdAFZDvt1P"
      }
    },
    {
      "cell_type": "code",
      "source": [
        "cnn.compile(optimizer='adam',loss='categorical_crossentropy',metrics=['accuracy'])"
      ],
      "metadata": {
        "id": "yAcyiEfVvVzw"
      },
      "execution_count": 15,
      "outputs": []
    },
    {
      "cell_type": "code",
      "source": [
        "cnn.summary()"
      ],
      "metadata": {
        "colab": {
          "base_uri": "https://localhost:8080/"
        },
        "id": "X0MROJsdlC5Z",
        "outputId": "7549089f-a5b1-47a9-fff1-5a6d5f69372e"
      },
      "execution_count": 16,
      "outputs": [
        {
          "output_type": "stream",
          "name": "stdout",
          "text": [
            "Model: \"sequential\"\n",
            "_________________________________________________________________\n",
            " Layer (type)                Output Shape              Param #   \n",
            "=================================================================\n",
            " conv2d (Conv2D)             (None, 64, 64, 32)        896       \n",
            "                                                                 \n",
            " conv2d_1 (Conv2D)           (None, 62, 62, 32)        9248      \n",
            "                                                                 \n",
            " max_pooling2d (MaxPooling2  (None, 31, 31, 32)        0         \n",
            " D)                                                              \n",
            "                                                                 \n",
            " dropout (Dropout)           (None, 31, 31, 32)        0         \n",
            "                                                                 \n",
            " conv2d_2 (Conv2D)           (None, 31, 31, 64)        18496     \n",
            "                                                                 \n",
            " conv2d_3 (Conv2D)           (None, 29, 29, 64)        36928     \n",
            "                                                                 \n",
            " max_pooling2d_1 (MaxPoolin  (None, 14, 14, 64)        0         \n",
            " g2D)                                                            \n",
            "                                                                 \n",
            " dropout_1 (Dropout)         (None, 14, 14, 64)        0         \n",
            "                                                                 \n",
            " flatten (Flatten)           (None, 12544)             0         \n",
            "                                                                 \n",
            " dense (Dense)               (None, 512)               6423040   \n",
            "                                                                 \n",
            " dense_1 (Dense)             (None, 256)               131328    \n",
            "                                                                 \n",
            " dropout_2 (Dropout)         (None, 256)               0         \n",
            "                                                                 \n",
            " dense_2 (Dense)             (None, 36)                9252      \n",
            "                                                                 \n",
            "=================================================================\n",
            "Total params: 6629188 (25.29 MB)\n",
            "Trainable params: 6629188 (25.29 MB)\n",
            "Non-trainable params: 0 (0.00 Byte)\n",
            "_________________________________________________________________\n"
          ]
        }
      ]
    },
    {
      "cell_type": "code",
      "source": [
        "training_history = cnn.fit(x=training_set,validation_data=validation_set,epochs=32)"
      ],
      "metadata": {
        "colab": {
          "base_uri": "https://localhost:8080/"
        },
        "id": "K3W4dNUrvxIw",
        "outputId": "5a66bf5f-ba69-4855-8ec9-368f83dd72c4"
      },
      "execution_count": 17,
      "outputs": [
        {
          "output_type": "stream",
          "name": "stdout",
          "text": [
            "Epoch 1/32\n",
            "98/98 [==============================] - 60s 563ms/step - loss: 6.5459 - accuracy: 0.0305 - val_loss: 3.4874 - val_accuracy: 0.0342\n",
            "Epoch 2/32\n",
            "98/98 [==============================] - 23s 210ms/step - loss: 3.4572 - accuracy: 0.0494 - val_loss: 3.2076 - val_accuracy: 0.1652\n",
            "Epoch 3/32\n",
            "98/98 [==============================] - 20s 182ms/step - loss: 3.2196 - accuracy: 0.1072 - val_loss: 2.8631 - val_accuracy: 0.2251\n",
            "Epoch 4/32\n",
            "98/98 [==============================] - 18s 166ms/step - loss: 2.9907 - accuracy: 0.1470 - val_loss: 2.5897 - val_accuracy: 0.3533\n",
            "Epoch 5/32\n",
            "98/98 [==============================] - 17s 162ms/step - loss: 2.7605 - accuracy: 0.2016 - val_loss: 2.0967 - val_accuracy: 0.4986\n",
            "Epoch 6/32\n",
            "98/98 [==============================] - 17s 164ms/step - loss: 2.4780 - accuracy: 0.2806 - val_loss: 1.7414 - val_accuracy: 0.6211\n",
            "Epoch 7/32\n",
            "98/98 [==============================] - 17s 161ms/step - loss: 2.2040 - accuracy: 0.3522 - val_loss: 1.3270 - val_accuracy: 0.7265\n",
            "Epoch 8/32\n",
            "98/98 [==============================] - 17s 159ms/step - loss: 1.9242 - accuracy: 0.4363 - val_loss: 1.1336 - val_accuracy: 0.7721\n",
            "Epoch 9/32\n",
            "98/98 [==============================] - 17s 163ms/step - loss: 1.6525 - accuracy: 0.5085 - val_loss: 1.0000 - val_accuracy: 0.8091\n",
            "Epoch 10/32\n",
            "98/98 [==============================] - 17s 158ms/step - loss: 1.4467 - accuracy: 0.5827 - val_loss: 0.7675 - val_accuracy: 0.8348\n",
            "Epoch 11/32\n",
            "98/98 [==============================] - 17s 160ms/step - loss: 1.2117 - accuracy: 0.6343 - val_loss: 0.7039 - val_accuracy: 0.8376\n",
            "Epoch 12/32\n",
            "98/98 [==============================] - 17s 162ms/step - loss: 1.0274 - accuracy: 0.6822 - val_loss: 0.6562 - val_accuracy: 0.8433\n",
            "Epoch 13/32\n",
            "98/98 [==============================] - 17s 162ms/step - loss: 0.9627 - accuracy: 0.7194 - val_loss: 0.5230 - val_accuracy: 0.8889\n",
            "Epoch 14/32\n",
            "98/98 [==============================] - 17s 159ms/step - loss: 0.7713 - accuracy: 0.7750 - val_loss: 0.5206 - val_accuracy: 0.8889\n",
            "Epoch 15/32\n",
            "98/98 [==============================] - 17s 161ms/step - loss: 0.7990 - accuracy: 0.7647 - val_loss: 0.4398 - val_accuracy: 0.8974\n",
            "Epoch 16/32\n",
            "98/98 [==============================] - 17s 160ms/step - loss: 0.6911 - accuracy: 0.7942 - val_loss: 0.4155 - val_accuracy: 0.9117\n",
            "Epoch 17/32\n",
            "98/98 [==============================] - 17s 159ms/step - loss: 0.6224 - accuracy: 0.8170 - val_loss: 0.5064 - val_accuracy: 0.8946\n",
            "Epoch 18/32\n",
            "98/98 [==============================] - 17s 161ms/step - loss: 0.5832 - accuracy: 0.8193 - val_loss: 0.4168 - val_accuracy: 0.9202\n",
            "Epoch 19/32\n",
            "98/98 [==============================] - 17s 160ms/step - loss: 0.4991 - accuracy: 0.8543 - val_loss: 0.3955 - val_accuracy: 0.9316\n",
            "Epoch 20/32\n",
            "98/98 [==============================] - 17s 161ms/step - loss: 0.5433 - accuracy: 0.8440 - val_loss: 0.4302 - val_accuracy: 0.9145\n",
            "Epoch 21/32\n",
            "98/98 [==============================] - 17s 162ms/step - loss: 0.4228 - accuracy: 0.8745 - val_loss: 0.3294 - val_accuracy: 0.9345\n",
            "Epoch 22/32\n",
            "98/98 [==============================] - 17s 162ms/step - loss: 0.4146 - accuracy: 0.8767 - val_loss: 0.3379 - val_accuracy: 0.9345\n",
            "Epoch 23/32\n",
            "98/98 [==============================] - 17s 161ms/step - loss: 0.3487 - accuracy: 0.9002 - val_loss: 0.3731 - val_accuracy: 0.9373\n",
            "Epoch 24/32\n",
            "98/98 [==============================] - 17s 157ms/step - loss: 0.3434 - accuracy: 0.9005 - val_loss: 0.3103 - val_accuracy: 0.9430\n",
            "Epoch 25/32\n",
            "98/98 [==============================] - 17s 160ms/step - loss: 0.3433 - accuracy: 0.9018 - val_loss: 0.2467 - val_accuracy: 0.9516\n",
            "Epoch 26/32\n",
            "98/98 [==============================] - 17s 159ms/step - loss: 0.2962 - accuracy: 0.9124 - val_loss: 0.2956 - val_accuracy: 0.9487\n",
            "Epoch 27/32\n",
            "98/98 [==============================] - 17s 159ms/step - loss: 0.2988 - accuracy: 0.9169 - val_loss: 0.2528 - val_accuracy: 0.9544\n",
            "Epoch 28/32\n",
            "98/98 [==============================] - 17s 161ms/step - loss: 0.2971 - accuracy: 0.9095 - val_loss: 0.2446 - val_accuracy: 0.9516\n",
            "Epoch 29/32\n",
            "98/98 [==============================] - 17s 158ms/step - loss: 0.3013 - accuracy: 0.9117 - val_loss: 0.3243 - val_accuracy: 0.9430\n",
            "Epoch 30/32\n",
            "98/98 [==============================] - 17s 160ms/step - loss: 0.2468 - accuracy: 0.9271 - val_loss: 0.2606 - val_accuracy: 0.9487\n",
            "Epoch 31/32\n",
            "98/98 [==============================] - 17s 159ms/step - loss: 0.2566 - accuracy: 0.9281 - val_loss: 0.2218 - val_accuracy: 0.9601\n",
            "Epoch 32/32\n",
            "98/98 [==============================] - 17s 162ms/step - loss: 0.2247 - accuracy: 0.9387 - val_loss: 0.2818 - val_accuracy: 0.9601\n"
          ]
        }
      ]
    },
    {
      "cell_type": "markdown",
      "source": [
        "##Evaluating Model"
      ],
      "metadata": {
        "id": "19E3mwj1phoW"
      }
    },
    {
      "cell_type": "code",
      "source": [
        "#Training set Accuracy\n",
        "train_loss, train_acc = cnn.evaluate(training_set)\n",
        "print('Training accuracy:', train_acc)"
      ],
      "metadata": {
        "colab": {
          "base_uri": "https://localhost:8080/"
        },
        "id": "iY6o3uxjpgl5",
        "outputId": "7f0b2741-ab58-443a-bdda-62dc5b939d15"
      },
      "execution_count": 18,
      "outputs": [
        {
          "output_type": "stream",
          "name": "stdout",
          "text": [
            "98/98 [==============================] - 13s 115ms/step - loss: 0.0499 - accuracy: 0.9865\n",
            "Training accuracy: 0.9865168333053589\n"
          ]
        }
      ]
    },
    {
      "cell_type": "code",
      "source": [
        "#Validation set Accuracy\n",
        "val_loss, val_acc = cnn.evaluate(validation_set)\n",
        "print('Validation accuracy:', val_acc)"
      ],
      "metadata": {
        "colab": {
          "base_uri": "https://localhost:8080/"
        },
        "id": "5SaQgd7bpgwl",
        "outputId": "7dbab2b1-4b69-4fa0-a0af-8eba09113b5c"
      },
      "execution_count": 19,
      "outputs": [
        {
          "output_type": "stream",
          "name": "stdout",
          "text": [
            "11/11 [==============================] - 2s 56ms/step - loss: 0.2818 - accuracy: 0.9601\n",
            "Validation accuracy: 0.9601139426231384\n"
          ]
        }
      ]
    },
    {
      "cell_type": "markdown",
      "source": [
        "##Saving Model"
      ],
      "metadata": {
        "id": "Qxp0xsjVBGec"
      }
    },
    {
      "cell_type": "code",
      "source": [
        "cnn.save('trained_model.h5')"
      ],
      "metadata": {
        "id": "EEUrBzCrxKt_",
        "colab": {
          "base_uri": "https://localhost:8080/"
        },
        "outputId": "db930931-de1f-4071-8e0f-010e0c000781"
      },
      "execution_count": 20,
      "outputs": [
        {
          "output_type": "stream",
          "name": "stderr",
          "text": [
            "/usr/local/lib/python3.10/dist-packages/keras/src/engine/training.py:3103: UserWarning: You are saving your model as an HDF5 file via `model.save()`. This file format is considered legacy. We recommend using instead the native Keras format, e.g. `model.save('my_model.keras')`.\n",
            "  saving_api.save_model(\n"
          ]
        }
      ]
    },
    {
      "cell_type": "code",
      "source": [
        "training_history.history #Return Dictionary of history"
      ],
      "metadata": {
        "colab": {
          "base_uri": "https://localhost:8080/"
        },
        "id": "BM-sILNMBwh1",
        "outputId": "97d08293-5e4e-47e3-fe79-ba766518ceda"
      },
      "execution_count": 21,
      "outputs": [
        {
          "output_type": "execute_result",
          "data": {
            "text/plain": [
              "{'loss': [6.545876979827881,\n",
              "  3.457158327102661,\n",
              "  3.2196052074432373,\n",
              "  2.990691661834717,\n",
              "  2.7605488300323486,\n",
              "  2.478036880493164,\n",
              "  2.204007387161255,\n",
              "  1.9241604804992676,\n",
              "  1.6524631977081299,\n",
              "  1.4466921091079712,\n",
              "  1.2116880416870117,\n",
              "  1.0274486541748047,\n",
              "  0.9626687169075012,\n",
              "  0.7713389992713928,\n",
              "  0.7989908456802368,\n",
              "  0.691066563129425,\n",
              "  0.6223991513252258,\n",
              "  0.583232581615448,\n",
              "  0.49905961751937866,\n",
              "  0.5433283448219299,\n",
              "  0.422774076461792,\n",
              "  0.4146418869495392,\n",
              "  0.34873896837234497,\n",
              "  0.3433630168437958,\n",
              "  0.3432970643043518,\n",
              "  0.29622146487236023,\n",
              "  0.2988044023513794,\n",
              "  0.29707950353622437,\n",
              "  0.3013135492801666,\n",
              "  0.24683737754821777,\n",
              "  0.25664928555488586,\n",
              "  0.2246955931186676],\n",
              " 'accuracy': [0.030497591942548752,\n",
              "  0.049438200891017914,\n",
              "  0.10722311586141586,\n",
              "  0.14703050255775452,\n",
              "  0.20160514116287231,\n",
              "  0.2805778384208679,\n",
              "  0.35216692090034485,\n",
              "  0.43627607822418213,\n",
              "  0.508507251739502,\n",
              "  0.5826645493507385,\n",
              "  0.6343499422073364,\n",
              "  0.6821829676628113,\n",
              "  0.7194221615791321,\n",
              "  0.7749598622322083,\n",
              "  0.7646870017051697,\n",
              "  0.7942215204238892,\n",
              "  0.8170144557952881,\n",
              "  0.8192616105079651,\n",
              "  0.8542535901069641,\n",
              "  0.8439807295799255,\n",
              "  0.8744783401489258,\n",
              "  0.8767254948616028,\n",
              "  0.9001604914665222,\n",
              "  0.9004815220832825,\n",
              "  0.9017656445503235,\n",
              "  0.9123595356941223,\n",
              "  0.9168539047241211,\n",
              "  0.9094703197479248,\n",
              "  0.9117174744606018,\n",
              "  0.9271268248558044,\n",
              "  0.9280899167060852,\n",
              "  0.938683807849884],\n",
              " 'val_loss': [3.4874463081359863,\n",
              "  3.207606077194214,\n",
              "  2.863051652908325,\n",
              "  2.5897200107574463,\n",
              "  2.096658706665039,\n",
              "  1.7414093017578125,\n",
              "  1.327024221420288,\n",
              "  1.1336065530776978,\n",
              "  1.0000276565551758,\n",
              "  0.7674708366394043,\n",
              "  0.7038909792900085,\n",
              "  0.6562091708183289,\n",
              "  0.5230497717857361,\n",
              "  0.5206117630004883,\n",
              "  0.4397813081741333,\n",
              "  0.4154990017414093,\n",
              "  0.506356418132782,\n",
              "  0.41678351163864136,\n",
              "  0.3954954147338867,\n",
              "  0.43015140295028687,\n",
              "  0.3294495940208435,\n",
              "  0.337911456823349,\n",
              "  0.373128205537796,\n",
              "  0.3103174567222595,\n",
              "  0.24674774706363678,\n",
              "  0.2956053614616394,\n",
              "  0.2527753710746765,\n",
              "  0.2446117401123047,\n",
              "  0.3243010938167572,\n",
              "  0.2606372535228729,\n",
              "  0.22181901335716248,\n",
              "  0.28184759616851807],\n",
              " 'val_accuracy': [0.03418803587555885,\n",
              "  0.16524216532707214,\n",
              "  0.22507122159004211,\n",
              "  0.3532763421535492,\n",
              "  0.49857550859451294,\n",
              "  0.621082603931427,\n",
              "  0.7264957427978516,\n",
              "  0.7720797657966614,\n",
              "  0.809116780757904,\n",
              "  0.8347578644752502,\n",
              "  0.8376068472862244,\n",
              "  0.8433048725128174,\n",
              "  0.8888888955116272,\n",
              "  0.8888888955116272,\n",
              "  0.8974359035491943,\n",
              "  0.9116809368133545,\n",
              "  0.8945869207382202,\n",
              "  0.9202279448509216,\n",
              "  0.9316239356994629,\n",
              "  0.9145299196243286,\n",
              "  0.934472918510437,\n",
              "  0.934472918510437,\n",
              "  0.9373219609260559,\n",
              "  0.9430199265480042,\n",
              "  0.9515669345855713,\n",
              "  0.9487179517745972,\n",
              "  0.9544159770011902,\n",
              "  0.9515669345855713,\n",
              "  0.9430199265480042,\n",
              "  0.9487179517745972,\n",
              "  0.9601139426231384,\n",
              "  0.9601139426231384]}"
            ]
          },
          "metadata": {},
          "execution_count": 21
        }
      ]
    },
    {
      "cell_type": "code",
      "source": [
        "#Recording History in json\n",
        "import json\n",
        "with open('training_hist.json','w') as f:\n",
        "  json.dump(training_history.history,f)"
      ],
      "metadata": {
        "id": "GdF3Ig4ZBU9V"
      },
      "execution_count": 22,
      "outputs": []
    },
    {
      "cell_type": "code",
      "source": [
        "print(training_history.history.keys())"
      ],
      "metadata": {
        "colab": {
          "base_uri": "https://localhost:8080/"
        },
        "id": "w8PnAYbuCNhu",
        "outputId": "26f33aea-50bb-4abe-a5d3-726fafca64f8"
      },
      "execution_count": 23,
      "outputs": [
        {
          "output_type": "stream",
          "name": "stdout",
          "text": [
            "dict_keys(['loss', 'accuracy', 'val_loss', 'val_accuracy'])\n"
          ]
        }
      ]
    },
    {
      "cell_type": "markdown",
      "source": [
        "##Calculating Accuracy of Model Achieved on Validation set"
      ],
      "metadata": {
        "id": "ZwTEcIavCjZ8"
      }
    },
    {
      "cell_type": "code",
      "source": [
        "print(\"Validation set Accuracy: {} %\".format(training_history.history['val_accuracy'][-1]*100))"
      ],
      "metadata": {
        "colab": {
          "base_uri": "https://localhost:8080/"
        },
        "id": "Z8Q2t6FXCUzR",
        "outputId": "1a7a71f0-6288-40e8-99ea-292e1b67f0d7"
      },
      "execution_count": 24,
      "outputs": [
        {
          "output_type": "stream",
          "name": "stdout",
          "text": [
            "Validation set Accuracy: 96.01139426231384 %\n"
          ]
        }
      ]
    },
    {
      "cell_type": "markdown",
      "source": [
        "#Accuracy Visualization"
      ],
      "metadata": {
        "id": "qNIMPXKFEZ5B"
      }
    },
    {
      "cell_type": "markdown",
      "source": [
        "##Training Visualization"
      ],
      "metadata": {
        "id": "Mdg9Zjp2EfSa"
      }
    },
    {
      "cell_type": "code",
      "source": [
        "#training_history.history['accuracy']"
      ],
      "metadata": {
        "id": "fAvJjfBAFNJx"
      },
      "execution_count": 25,
      "outputs": []
    },
    {
      "cell_type": "code",
      "source": [
        "epochs = [i for i in range(1,33)]\n",
        "plt.plot(epochs,training_history.history['accuracy'],color='red')\n",
        "plt.xlabel('No. of Epochs')\n",
        "plt.ylabel('Traiining Accuracy')\n",
        "plt.title('Visualization of Training Accuracy Result')\n",
        "plt.show()"
      ],
      "metadata": {
        "colab": {
          "base_uri": "https://localhost:8080/",
          "height": 472
        },
        "id": "gfKdieuJCt3m",
        "outputId": "91c09f2e-82ff-49b0-a352-a139d96923ca"
      },
      "execution_count": 26,
      "outputs": [
        {
          "output_type": "display_data",
          "data": {
            "text/plain": [
              "<Figure size 640x480 with 1 Axes>"
            ],
            "image/png": "[encoded data removed]"
          },
          "metadata": {}
        }
      ]
    },
    {
      "cell_type": "markdown",
      "source": [
        "##Validation Accuracy"
      ],
      "metadata": {
        "id": "FbOcpJL1FvJG"
      }
    },
    {
      "cell_type": "code",
      "source": [
        "plt.plot(epochs,training_history.history['val_accuracy'],color='blue')\n",
        "plt.xlabel('No. of Epochs')\n",
        "plt.ylabel('Validation Accuracy')\n",
        "plt.title('Visualization of Validation Accuracy Result')\n",
        "plt.show()"
      ],
      "metadata": {
        "colab": {
          "base_uri": "https://localhost:8080/",
          "height": 472
        },
        "id": "ZXyC9WAJEs-B",
        "outputId": "6de97e18-1501-430a-8f5d-9f6e0bff0c0d"
      },
      "execution_count": 27,
      "outputs": [
        {
          "output_type": "display_data",
          "data": {
            "text/plain": [
              "<Figure size 640x480 with 1 Axes>"
            ],
            "image/png": "[encoded data removed]"
          },
          "metadata": {}
        }
      ]
    },
    {
      "cell_type": "markdown",
      "source": [
        "##Test set Evaluation"
      ],
      "metadata": {
        "id": "IJfYwGbmASaL"
      }
    },
    {
      "cell_type": "code",
      "source": [
        "test_set = tf.keras.utils.image_dataset_from_directory(\n",
        "    '/content/drive/MyDrive/archive (5)/test',\n",
        "    labels=\"inferred\",\n",
        "    label_mode=\"categorical\",\n",
        "    class_names=None,\n",
        "    color_mode=\"rgb\",\n",
        "    batch_size=32,\n",
        "    image_size=(64, 64),\n",
        "    shuffle=True,\n",
        "    seed=None,\n",
        "    validation_split=None,\n",
        "    subset=None,\n",
        "    interpolation=\"bilinear\",\n",
        "    follow_links=False,\n",
        "    crop_to_aspect_ratio=False\n",
        ")"
      ],
      "metadata": {
        "colab": {
          "base_uri": "https://localhost:8080/"
        },
        "id": "fGs_0S4AAUj_",
        "outputId": "0dbf69d9-ed3b-4265-ed8f-af65b146f900"
      },
      "execution_count": 28,
      "outputs": [
        {
          "output_type": "stream",
          "name": "stdout",
          "text": [
            "Found 359 files belonging to 36 classes.\n"
          ]
        }
      ]
    },
    {
      "cell_type": "code",
      "source": [
        "test_loss,test_acc = cnn.evaluate(test_set)\n",
        "print('Test accuracy:', test_acc)"
      ],
      "metadata": {
        "colab": {
          "base_uri": "https://localhost:8080/"
        },
        "id": "GdMcF4vnAYuM",
        "outputId": "e2331c5f-eb81-4e0b-c748-56e111f572d4"
      },
      "execution_count": 29,
      "outputs": [
        {
          "output_type": "stream",
          "name": "stdout",
          "text": [
            "12/12 [==============================] - 4s 25ms/step - loss: 0.2756 - accuracy: 0.9610\n",
            "Test accuracy: 0.961002767086029\n"
          ]
        }
      ]
    },
    {
      "cell_type": "code",
      "source": [],
      "metadata": {
        "id": "MmHXzT0PAiOn"
      },
      "execution_count": 29,
      "outputs": []
    }
  ]
}